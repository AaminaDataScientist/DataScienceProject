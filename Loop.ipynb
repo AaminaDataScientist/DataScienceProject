{
 "cells": [
  {
   "cell_type": "markdown",
   "metadata": {},
   "source": [
    "# For Loop"
   ]
  },
  {
   "cell_type": "markdown",
   "metadata": {},
   "source": [
    "# Example 1"
   ]
  },
  {
   "cell_type": "code",
   "execution_count": 1,
   "metadata": {},
   "outputs": [
    {
     "name": "stdout",
     "output_type": "stream",
     "text": [
      " The Numbers are : 1\n",
      " The Numbers are : 3\n",
      " The Numbers are : 5\n",
      " The Numbers are : 7\n",
      " The Numbers are : 9\n"
     ]
    }
   ],
   "source": [
    "n=[1,3,5,7,9]\n",
    "for i in n:\n",
    "    print(\" The Numbers are :\", i)"
   ]
  },
  {
   "cell_type": "markdown",
   "metadata": {},
   "source": [
    "# Example 2"
   ]
  },
  {
   "cell_type": "code",
   "execution_count": 2,
   "metadata": {},
   "outputs": [
    {
     "name": "stdout",
     "output_type": "stream",
     "text": [
      " The sum of Numbers is : 2\n",
      " The sum of Numbers is : 6\n",
      " The sum of Numbers is : 8\n",
      " The sum of Numbers is : 15\n",
      " The sum of Numbers is : 23\n",
      " The sum of Numbers is : 33\n"
     ]
    }
   ],
   "source": [
    "# Find the sum of numbers\n",
    "Numbers=[2,4,2,7,8,10]\n",
    "sum=0\n",
    "for i in Numbers:\n",
    "    sum=sum+i\n",
    "    print(\" The sum of Numbers is :\", sum)"
   ]
  },
  {
   "cell_type": "markdown",
   "metadata": {},
   "source": [
    "# Example 3"
   ]
  },
  {
   "cell_type": "code",
   "execution_count": 3,
   "metadata": {},
   "outputs": [
    {
     "name": "stdout",
     "output_type": "stream",
     "text": [
      "The numbers divisible by 4 is : 4\n",
      "The numbers divisible by 4 is : 8\n",
      "The numbers divisible by 4 is : 12\n",
      "The numbers divisible by 4 is : 16\n",
      "The numbers divisible by 4 is : 20\n",
      "The numbers divisible by 4 is : 24\n",
      "The numbers divisible by 4 is : 28\n"
     ]
    }
   ],
   "source": [
    "# Find the numbers that can be divisible by 4\n",
    "\n",
    "n=30\n",
    "for n in range(1,30):\n",
    "    if n%4==0:\n",
    "        print(\"The numbers divisible by 4 is :\", n)"
   ]
  },
  {
   "cell_type": "markdown",
   "metadata": {},
   "source": [
    "# While Loop"
   ]
  },
  {
   "cell_type": "markdown",
   "metadata": {},
   "source": [
    "# Example 4"
   ]
  },
  {
   "cell_type": "code",
   "execution_count": 6,
   "metadata": {},
   "outputs": [
    {
     "name": "stdout",
     "output_type": "stream",
     "text": [
      "Numbers are : 2\n",
      "i = 2\n",
      "Numbers are : 4\n",
      "i = 3\n",
      "Numbers are : 6\n",
      "i = 4\n",
      "Numbers are : 8\n",
      "i = 5\n",
      "Numbers are : 10\n",
      "i = 6\n",
      "Numbers are : 12\n",
      "i = 7\n",
      "Numbers are : 14\n",
      "i = 8\n",
      "Numbers are : 16\n",
      "i = 9\n",
      "Numbers are : 18\n",
      "i = 10\n",
      "Numbers are : 20\n",
      "i = 11\n",
      "Numbers are : 22\n",
      "i = 12\n",
      "Numbers are : 24\n",
      "i = 13\n",
      "Numbers are : 26\n",
      "i = 14\n",
      "Numbers are : 28\n",
      "i = 15\n",
      "Numbers are : 30\n",
      "i = 16\n",
      "Numbers are : 32\n",
      "i = 17\n",
      "Numbers are : 34\n",
      "i = 18\n",
      "Numbers are : 36\n",
      "i = 19\n",
      "Numbers are : 38\n",
      "i = 20\n",
      "Numbers are : 40\n",
      "i = 21\n"
     ]
    }
   ],
   "source": [
    "n=20\n",
    "sum=0\n",
    "i=1\n",
    "while i<=20:\n",
    "    sum=sum+2\n",
    "    i=i+1\n",
    "    print(\"Numbers are :\", sum)\n",
    "    print('i =', i)"
   ]
  },
  {
   "cell_type": "markdown",
   "metadata": {},
   "source": [
    "# Example 5"
   ]
  },
  {
   "cell_type": "code",
   "execution_count": 11,
   "metadata": {},
   "outputs": [
    {
     "name": "stdout",
     "output_type": "stream",
     "text": [
      "The value of n is greater than marks, It will not execute\n"
     ]
    }
   ],
   "source": [
    "marks=100\n",
    "n=200\n",
    "while n<=100:\n",
    "    n=marks+10\n",
    "    print(n)\n",
    "else:\n",
    "    print(\"The value of n is greater than marks, It will not execute\")"
   ]
  },
  {
   "cell_type": "code",
   "execution_count": null,
   "metadata": {},
   "outputs": [],
   "source": []
  }
 ],
 "metadata": {
  "kernelspec": {
   "display_name": "Python 3",
   "language": "python",
   "name": "python3"
  },
  "language_info": {
   "codemirror_mode": {
    "name": "ipython",
    "version": 3
   },
   "file_extension": ".py",
   "mimetype": "text/x-python",
   "name": "python",
   "nbconvert_exporter": "python",
   "pygments_lexer": "ipython3",
   "version": "3.7.6"
  }
 },
 "nbformat": 4,
 "nbformat_minor": 4
}
