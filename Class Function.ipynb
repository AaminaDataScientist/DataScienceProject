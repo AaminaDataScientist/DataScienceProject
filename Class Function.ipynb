{
 "cells": [
  {
   "cell_type": "markdown",
   "metadata": {},
   "source": [
    "# Create a Class for Person with attribute id and name"
   ]
  },
  {
   "cell_type": "code",
   "execution_count": 30,
   "metadata": {},
   "outputs": [],
   "source": [
    "class Person:\n",
    "    def __init__(self, id, name):\n",
    "        self.id=id\n",
    "        self.name=name\n",
    "    def display(self):\n",
    "        print(\"Person id\", self.id, \"Person Name\", self.name)\n",
    "        "
   ]
  },
  {
   "cell_type": "code",
   "execution_count": 31,
   "metadata": {},
   "outputs": [],
   "source": [
    "p1=Person(100,\"Majer\")\n",
    "p2=Person(102,\"Aamina\")"
   ]
  },
  {
   "cell_type": "code",
   "execution_count": 36,
   "metadata": {},
   "outputs": [
    {
     "name": "stdout",
     "output_type": "stream",
     "text": [
      "Person id 100 Person Name Majer\n",
      "Person id 102 Person Name Aamina\n"
     ]
    }
   ],
   "source": [
    "p1.display()\n",
    "p2.display()"
   ]
  },
  {
   "cell_type": "markdown",
   "metadata": {},
   "source": [
    "# Display employee name, id and designation using class"
   ]
  },
  {
   "cell_type": "code",
   "execution_count": 54,
   "metadata": {},
   "outputs": [],
   "source": [
    "class employee:\n",
    "    def __init__(self, emp_id, emp_name, emp_designation):\n",
    "        self.id=emp_id\n",
    "        self.name=emp_name\n",
    "        self.role=emp_designation\n",
    "        \n",
    "    def display(self):\n",
    "        print(\"Emp ID:\", self.id, \"\\nName:\", self.name, \"\\nDesignation:\", self.role)"
   ]
  },
  {
   "cell_type": "code",
   "execution_count": 55,
   "metadata": {},
   "outputs": [],
   "source": [
    "n=employee(1,\"Michael\", \"Manager\")\n",
    "n1=employee(2, \"Jake\", \"Director\")"
   ]
  },
  {
   "cell_type": "code",
   "execution_count": 56,
   "metadata": {},
   "outputs": [
    {
     "name": "stdout",
     "output_type": "stream",
     "text": [
      "Emp ID: 1 \n",
      "Name: Michael \n",
      "Designation: Manager\n"
     ]
    }
   ],
   "source": [
    "n.display()"
   ]
  },
  {
   "cell_type": "code",
   "execution_count": 57,
   "metadata": {},
   "outputs": [
    {
     "name": "stdout",
     "output_type": "stream",
     "text": [
      "Emp ID: 2 \n",
      "Name: Jake \n",
      "Designation: Director\n"
     ]
    }
   ],
   "source": [
    "n1.display()"
   ]
  },
  {
   "cell_type": "markdown",
   "metadata": {},
   "source": [
    "# Display student name and age using class"
   ]
  },
  {
   "cell_type": "code",
   "execution_count": 96,
   "metadata": {},
   "outputs": [],
   "source": [
    "class student:\n",
    "    \n",
    "    def __init__(self, name, age):\n",
    "        self.name=name\n",
    "        self.age=age\n",
    "    "
   ]
  },
  {
   "cell_type": "code",
   "execution_count": 100,
   "metadata": {},
   "outputs": [
    {
     "name": "stdout",
     "output_type": "stream",
     "text": [
      "Sana\n",
      "23\n"
     ]
    }
   ],
   "source": [
    "p3=student(\"Sana\", 23)\n",
    "print(p3.name)\n",
    "print(p3.age)"
   ]
  },
  {
   "cell_type": "markdown",
   "metadata": {},
   "source": [
    "# Display employee id, age and salary using class"
   ]
  },
  {
   "cell_type": "code",
   "execution_count": 101,
   "metadata": {},
   "outputs": [],
   "source": [
    "class workers:\n",
    "    def __init__(self, name, id, age, salary):\n",
    "        self.name=name\n",
    "        self.id=id\n",
    "        self.age=age\n",
    "        self.salary=salary\n",
    "    "
   ]
  },
  {
   "cell_type": "code",
   "execution_count": 102,
   "metadata": {},
   "outputs": [
    {
     "name": "stdout",
     "output_type": "stream",
     "text": [
      "Amy\n"
     ]
    }
   ],
   "source": [
    "h=workers(\"Amy\", 10, 23, 27000)\n",
    "print(h.name)"
   ]
  },
  {
   "cell_type": "code",
   "execution_count": 103,
   "metadata": {},
   "outputs": [
    {
     "name": "stdout",
     "output_type": "stream",
     "text": [
      "Amy\n",
      "10\n",
      "23\n",
      "27000\n"
     ]
    }
   ],
   "source": [
    "print(h.name)\n",
    "print(h.id)\n",
    "print(h.age)\n",
    "print(h.salary)"
   ]
  },
  {
   "cell_type": "markdown",
   "metadata": {},
   "source": [
    "# Display the car company name and the color using class and global function"
   ]
  },
  {
   "cell_type": "code",
   "execution_count": 108,
   "metadata": {},
   "outputs": [],
   "source": [
    "class company:\n",
    "    revenue=80000000\n",
    "    def __init__(self, name, location, number_of_employee):\n",
    "        self.name=name,\n",
    "        self.location=location\n",
    "        self.no_emp=number_of_employee\n",
    "    def display(self):\n",
    "        print(\"Show the employees details\")\n",
    "        print(\"---------------------------\")\n",
    "        print(\"Employee name:\", self.name, \"\\nLocation:\", self.location, \"\\nNumber of Employees:\", self.no_emp)"
   ]
  },
  {
   "cell_type": "code",
   "execution_count": 109,
   "metadata": {},
   "outputs": [
    {
     "name": "stdout",
     "output_type": "stream",
     "text": [
      "Show the employees details\n",
      "---------------------------\n",
      "Employee name: ('Jeff',) \n",
      "Location: Bangalore \n",
      "Number of Employees: 100\n"
     ]
    }
   ],
   "source": [
    "emp=company(\"Jeff\", \"Bangalore\", 100)\n",
    "emp.display()"
   ]
  },
  {
   "cell_type": "code",
   "execution_count": 110,
   "metadata": {},
   "outputs": [
    {
     "data": {
      "text/plain": [
       "80000000"
      ]
     },
     "execution_count": 110,
     "metadata": {},
     "output_type": "execute_result"
    }
   ],
   "source": [
    "company.revenue"
   ]
  },
  {
   "cell_type": "code",
   "execution_count": 122,
   "metadata": {},
   "outputs": [],
   "source": [
    "class car:\n",
    "    def __init__(self, company, color):\n",
    "        self.company=company\n",
    "        self.color=color\n",
    "        \n",
    "    def display(self):\n",
    "        print(\"Company Name is:\", self.company, \"\\nColor is:\", self.color)\n",
    "        print(\"This is\", self.color, self.company)"
   ]
  },
  {
   "cell_type": "code",
   "execution_count": 123,
   "metadata": {},
   "outputs": [],
   "source": [
    "def main():\n",
    "    c=car(\"Ferari\", \"White\")\n",
    "    c.display()"
   ]
  },
  {
   "cell_type": "code",
   "execution_count": 124,
   "metadata": {},
   "outputs": [
    {
     "name": "stdout",
     "output_type": "stream",
     "text": [
      "Company Name is: Ferari \n",
      "Color is: White\n",
      "This is White Ferari\n"
     ]
    }
   ],
   "source": [
    "if __name__==\"__main__\":\n",
    "    main()"
   ]
  },
  {
   "cell_type": "markdown",
   "metadata": {},
   "source": [
    "# Display employee name age using class and getmethod"
   ]
  },
  {
   "cell_type": "code",
   "execution_count": 126,
   "metadata": {},
   "outputs": [],
   "source": [
    "class employee:\n",
    "    def __init__(self, name, age):\n",
    "        print(\"Initialization Method\")\n",
    "        self.name=name\n",
    "        self.age=age\n",
    "    def getdata(self, name, age):\n",
    "        print(\"Getdata Method\")\n",
    "        self.name=name\n",
    "        self.age=age\n",
    "        \n",
    "    def display(self):\n",
    "        print(\"Hello\", self.name, self.age)"
   ]
  },
  {
   "cell_type": "code",
   "execution_count": 132,
   "metadata": {},
   "outputs": [],
   "source": [
    "def main():\n",
    "    e=employee(\"Jammy\", 23)\n",
    "    e.display()\n",
    "    \n",
    "    e.getdata(\"Eric\", 30)\n",
    "    e.display()"
   ]
  },
  {
   "cell_type": "code",
   "execution_count": 133,
   "metadata": {},
   "outputs": [
    {
     "name": "stdout",
     "output_type": "stream",
     "text": [
      "Initialization Method\n",
      "Hello Jammy 23\n",
      "Getdata Method\n",
      "Hello Eric 30\n"
     ]
    }
   ],
   "source": [
    "if __name__==\"__main__\":\n",
    "    main()"
   ]
  },
  {
   "cell_type": "markdown",
   "metadata": {},
   "source": [
    "# Display sport player name, age, sport using class and getmethod "
   ]
  },
  {
   "cell_type": "code",
   "execution_count": 141,
   "metadata": {},
   "outputs": [
    {
     "name": "stdout",
     "output_type": "stream",
     "text": [
      "Hello!! Virat 30 Cricket\n",
      "Hello!! Sana 28 Tennis\n"
     ]
    }
   ],
   "source": [
    "class player:\n",
    "    def __init__(self, name, age, sport):\n",
    "        self.name=name\n",
    "        self.age=age\n",
    "        self.sport=sport\n",
    "    def getdata(self, name, age, sport):\n",
    "        self.name=name\n",
    "        self.age=age\n",
    "        self.sport=sport\n",
    "    def display(self):\n",
    "        print(\"Hello!!\", self.name, self.age, self.sport)\n",
    "def main():\n",
    "    s=player(\"Virat\", 30, \"Cricket\") #Initialization will work\n",
    "    s.display()\n",
    "        \n",
    "    s.getdata(\"Sana\", 28, \"Tennis\")  #Getdata will work\n",
    "    s.display()\n",
    "if __name__==\"__main__\":\n",
    "    main()"
   ]
  },
  {
   "cell_type": "code",
   "execution_count": null,
   "metadata": {},
   "outputs": [],
   "source": []
  }
 ],
 "metadata": {
  "kernelspec": {
   "display_name": "Python 3",
   "language": "python",
   "name": "python3"
  },
  "language_info": {
   "codemirror_mode": {
    "name": "ipython",
    "version": 3
   },
   "file_extension": ".py",
   "mimetype": "text/x-python",
   "name": "python",
   "nbconvert_exporter": "python",
   "pygments_lexer": "ipython3",
   "version": "3.7.6"
  }
 },
 "nbformat": 4,
 "nbformat_minor": 4
}
