{
 "cells": [
  {
   "cell_type": "markdown",
   "metadata": {},
   "source": [
    "# If else statement"
   ]
  },
  {
   "cell_type": "markdown",
   "metadata": {},
   "source": [
    "# Example 1"
   ]
  },
  {
   "cell_type": "code",
   "execution_count": 2,
   "metadata": {},
   "outputs": [
    {
     "name": "stdout",
     "output_type": "stream",
     "text": [
      "The statement is true\n"
     ]
    }
   ],
   "source": [
    "# if else using OR:\n",
    "# If any one statement is true it will execute the result\n",
    "\n",
    "a= 200\n",
    "b=390\n",
    "c=201\n",
    "if a>b or b>c:\n",
    "    print(\"The statement is true\")\n",
    "else:\n",
    "    print(\"The statement is false\")"
   ]
  },
  {
   "cell_type": "markdown",
   "metadata": {},
   "source": [
    "# Example 2"
   ]
  },
  {
   "cell_type": "code",
   "execution_count": 5,
   "metadata": {},
   "outputs": [
    {
     "name": "stdout",
     "output_type": "stream",
     "text": [
      "They are not direct friend of each other, they are correlated\n"
     ]
    }
   ],
   "source": [
    "#if else using AND:\n",
    "\n",
    "a='Ram is friend of Sham'\n",
    "b='Sham is friend of Rahul'\n",
    "c='Rahul is Rams friend'\n",
    "if a==b and b==c:\n",
    "    print(\"They are friends\")\n",
    "else:\n",
    "    print(\"They are not direct friend of each other, they are correlated\")\n"
   ]
  },
  {
   "cell_type": "markdown",
   "metadata": {},
   "source": [
    "# Example 3"
   ]
  },
  {
   "cell_type": "code",
   "execution_count": 7,
   "metadata": {},
   "outputs": [
    {
     "name": "stdout",
     "output_type": "stream",
     "text": [
      "A is not equal to B\n"
     ]
    }
   ],
   "source": [
    "# if else elif:\n",
    "\n",
    "a=10\n",
    "b=20\n",
    "c=30\n",
    "if a<b and b>c:\n",
    "    print(\"It is right a is less than b and b is greater than c\")\n",
    "elif a!=b:\n",
    "    print(\"A is not equal to B\")\n",
    "else:\n",
    "    print(\"A, B, C all are different and it is not equal\")"
   ]
  },
  {
   "cell_type": "markdown",
   "metadata": {},
   "source": [
    "# Example 4"
   ]
  },
  {
   "cell_type": "code",
   "execution_count": 24,
   "metadata": {},
   "outputs": [
    {
     "name": "stdout",
     "output_type": "stream",
     "text": [
      "The numbers are: 1\n",
      "The numbers are: 2\n",
      "The numbers are: 3\n",
      "The numbers are: 4\n",
      "The numbers are: 5\n",
      "The numbers are: 6\n",
      "The numbers are: 7\n",
      "The numbers are: 8\n",
      "The numbers are: 9\n"
     ]
    }
   ],
   "source": [
    "#if statement under the for loop:\n",
    "\n",
    "n=10\n",
    "for n in range(1,10):\n",
    "    if n<10:\n",
    "        print(\"The numbers are:\", n)"
   ]
  },
  {
   "cell_type": "markdown",
   "metadata": {},
   "source": [
    "# Example 5"
   ]
  },
  {
   "cell_type": "code",
   "execution_count": 22,
   "metadata": {},
   "outputs": [
    {
     "name": "stdout",
     "output_type": "stream",
     "text": [
      "The numbers are: 1\n",
      "The numbers are: 4\n",
      "The numbers are: 9\n",
      "The numbers are: 16\n",
      "The numbers are: 25\n",
      "The numbers are: 36\n",
      "The numbers are: 49\n",
      "The numbers are: 64\n",
      "The numbers are: 81\n",
      "The sum of all numbers is 361\n"
     ]
    }
   ],
   "source": [
    "# Square of each number\n",
    "\n",
    "n=100\n",
    "for n in range(1,20):\n",
    "    n=n**2\n",
    "    if n<100:\n",
    "        print(\"The numbers are:\", n)\n",
    "print(\"The sum of all numbers is\", n)"
   ]
  },
  {
   "cell_type": "markdown",
   "metadata": {},
   "source": [
    "# Example 6"
   ]
  },
  {
   "cell_type": "code",
   "execution_count": 27,
   "metadata": {},
   "outputs": [
    {
     "name": "stdout",
     "output_type": "stream",
     "text": [
      "It is odd number 1\n",
      "It is Even Number 2\n",
      "It is odd number 3\n",
      "It is Even Number 4\n",
      "It is odd number 5\n",
      "It is Even Number 6\n",
      "It is odd number 7\n",
      "It is Even Number 8\n",
      "It is odd number 9\n",
      "It is Even Number 10\n",
      "It is odd number 11\n",
      "It is Even Number 12\n",
      "It is odd number 13\n",
      "It is Even Number 14\n",
      "It is odd number 15\n",
      "It is Even Number 16\n",
      "It is odd number 17\n",
      "It is Even Number 18\n",
      "It is odd number 19\n",
      "It is Even Number 20\n",
      "It is odd number 21\n",
      "It is Even Number 22\n",
      "It is odd number 23\n",
      "It is Even Number 24\n",
      "It is odd number 25\n",
      "It is Even Number 26\n",
      "It is odd number 27\n",
      "It is Even Number 28\n",
      "It is odd number 29\n",
      "It is Even Number 30\n",
      "It is odd number 31\n",
      "It is Even Number 32\n",
      "It is odd number 33\n",
      "It is Even Number 34\n",
      "It is odd number 35\n",
      "It is Even Number 36\n",
      "It is odd number 37\n",
      "It is Even Number 38\n",
      "It is odd number 39\n",
      "It is Even Number 40\n",
      "It is odd number 41\n",
      "It is Even Number 42\n",
      "It is odd number 43\n",
      "It is Even Number 44\n",
      "It is odd number 45\n",
      "It is Even Number 46\n",
      "It is odd number 47\n",
      "It is Even Number 48\n",
      "It is odd number 49\n",
      "It is Even Number 50\n",
      "It is odd number 51\n",
      "It is Even Number 52\n",
      "It is odd number 53\n",
      "It is Even Number 54\n",
      "It is odd number 55\n",
      "It is Even Number 56\n",
      "It is odd number 57\n",
      "It is Even Number 58\n",
      "It is odd number 59\n",
      "It is Even Number 60\n",
      "It is odd number 61\n",
      "It is Even Number 62\n",
      "It is odd number 63\n",
      "It is Even Number 64\n",
      "It is odd number 65\n",
      "It is Even Number 66\n",
      "It is odd number 67\n",
      "It is Even Number 68\n",
      "It is odd number 69\n",
      "It is Even Number 70\n",
      "It is odd number 71\n",
      "It is Even Number 72\n",
      "It is odd number 73\n",
      "It is Even Number 74\n",
      "It is odd number 75\n",
      "It is Even Number 76\n",
      "It is odd number 77\n",
      "It is Even Number 78\n",
      "It is odd number 79\n",
      "It is Even Number 80\n",
      "It is odd number 81\n",
      "It is Even Number 82\n",
      "It is odd number 83\n",
      "It is Even Number 84\n",
      "It is odd number 85\n",
      "It is Even Number 86\n",
      "It is odd number 87\n",
      "It is Even Number 88\n",
      "It is odd number 89\n",
      "It is Even Number 90\n",
      "It is odd number 91\n",
      "It is Even Number 92\n",
      "It is odd number 93\n",
      "It is Even Number 94\n",
      "It is odd number 95\n",
      "It is Even Number 96\n",
      "It is odd number 97\n",
      "It is Even Number 98\n",
      "It is odd number 99\n",
      "It is Even Number 100\n",
      "It is odd number 101\n",
      "It is Even Number 102\n",
      "It is odd number 103\n",
      "It is Even Number 104\n",
      "It is odd number 105\n",
      "It is Even Number 106\n",
      "It is odd number 107\n",
      "It is Even Number 108\n",
      "It is odd number 109\n",
      "It is Even Number 110\n",
      "It is odd number 111\n",
      "It is Even Number 112\n",
      "It is odd number 113\n",
      "It is Even Number 114\n",
      "It is odd number 115\n",
      "It is Even Number 116\n",
      "It is odd number 117\n",
      "It is Even Number 118\n",
      "It is odd number 119\n",
      "It is Even Number 120\n",
      "It is odd number 121\n",
      "It is Even Number 122\n",
      "It is odd number 123\n",
      "It is Even Number 124\n",
      "It is odd number 125\n",
      "It is Even Number 126\n",
      "It is odd number 127\n",
      "It is Even Number 128\n",
      "It is odd number 129\n",
      "It is Even Number 130\n",
      "It is odd number 131\n",
      "It is Even Number 132\n",
      "It is odd number 133\n",
      "It is Even Number 134\n",
      "It is odd number 135\n",
      "It is Even Number 136\n",
      "It is odd number 137\n",
      "It is Even Number 138\n",
      "It is odd number 139\n",
      "It is Even Number 140\n",
      "It is odd number 141\n",
      "It is Even Number 142\n",
      "It is odd number 143\n",
      "It is Even Number 144\n",
      "It is odd number 145\n",
      "It is Even Number 146\n",
      "It is odd number 147\n",
      "It is Even Number 148\n",
      "It is odd number 149\n",
      "It is Even Number 150\n",
      "It is odd number 151\n",
      "It is Even Number 152\n",
      "It is odd number 153\n",
      "It is Even Number 154\n",
      "It is odd number 155\n",
      "It is Even Number 156\n",
      "It is odd number 157\n",
      "It is Even Number 158\n",
      "It is odd number 159\n",
      "It is Even Number 160\n",
      "It is odd number 161\n",
      "It is Even Number 162\n",
      "It is odd number 163\n",
      "It is Even Number 164\n",
      "It is odd number 165\n",
      "It is Even Number 166\n",
      "It is odd number 167\n",
      "It is Even Number 168\n",
      "It is odd number 169\n",
      "It is Even Number 170\n",
      "It is odd number 171\n",
      "It is Even Number 172\n",
      "It is odd number 173\n",
      "It is Even Number 174\n",
      "It is odd number 175\n",
      "It is Even Number 176\n",
      "It is odd number 177\n",
      "It is Even Number 178\n",
      "It is odd number 179\n",
      "It is Even Number 180\n",
      "It is odd number 181\n",
      "It is Even Number 182\n",
      "It is odd number 183\n",
      "It is Even Number 184\n",
      "It is odd number 185\n",
      "It is Even Number 186\n",
      "It is odd number 187\n",
      "It is Even Number 188\n",
      "It is odd number 189\n",
      "It is Even Number 190\n",
      "It is odd number 191\n",
      "It is Even Number 192\n",
      "It is odd number 193\n",
      "It is Even Number 194\n",
      "It is odd number 195\n",
      "It is Even Number 196\n",
      "It is odd number 197\n",
      "It is Even Number 198\n",
      "It is odd number 199\n"
     ]
    }
   ],
   "source": [
    "# Finding Odd and Even Numbers:\n",
    "\n",
    "n=200\n",
    "for n in range(1,200):\n",
    "    if n%2==0:\n",
    "        print(\"It is Even Number\", n)\n",
    "    elif n%2!=0:\n",
    "        print(\"It is odd number\", n)"
   ]
  },
  {
   "cell_type": "markdown",
   "metadata": {},
   "source": [
    "# Example 7"
   ]
  },
  {
   "cell_type": "code",
   "execution_count": 32,
   "metadata": {},
   "outputs": [
    {
     "name": "stdout",
     "output_type": "stream",
     "text": [
      "It is Even Number 4\n",
      "It is Even Number 8\n",
      "It is Even Number 12\n",
      "It is Even Number 16\n",
      "It is Even Number 20\n",
      "It is Even Number 24\n",
      "It is Even Number 28\n",
      "It is Even Number 32\n",
      "It is Even Number 36\n",
      "It is Even Number 40\n",
      "It is Even Number 44\n",
      "It is Even Number 48\n"
     ]
    }
   ],
   "source": [
    "# Show only even number:\n",
    "n=50\n",
    "for n in range(1,50):\n",
    "    if n%4==0:\n",
    "        print(\"It is Even Number\", n)"
   ]
  },
  {
   "cell_type": "markdown",
   "metadata": {},
   "source": [
    "# Example 8"
   ]
  },
  {
   "cell_type": "code",
   "execution_count": 36,
   "metadata": {},
   "outputs": [
    {
     "name": "stdout",
     "output_type": "stream",
     "text": [
      "It is Odd Number 1\n",
      "It is Odd Number 2\n",
      "It is Odd Number 3\n",
      "It is Odd Number 5\n",
      "It is Odd Number 6\n",
      "It is Odd Number 7\n",
      "It is Odd Number 9\n",
      "It is Odd Number 10\n",
      "It is Odd Number 11\n",
      "It is Odd Number 13\n",
      "It is Odd Number 14\n",
      "It is Odd Number 15\n",
      "It is Odd Number 17\n",
      "It is Odd Number 18\n",
      "It is Odd Number 19\n"
     ]
    }
   ],
   "source": [
    "# Show only Odd Number:\n",
    "\n",
    "n=20\n",
    "for n in range(1,20):\n",
    "    if n%4!=0:\n",
    "        print(\"It is Odd Number\", n)"
   ]
  },
  {
   "cell_type": "code",
   "execution_count": null,
   "metadata": {},
   "outputs": [],
   "source": []
  }
 ],
 "metadata": {
  "kernelspec": {
   "display_name": "Python 3",
   "language": "python",
   "name": "python3"
  },
  "language_info": {
   "codemirror_mode": {
    "name": "ipython",
    "version": 3
   },
   "file_extension": ".py",
   "mimetype": "text/x-python",
   "name": "python",
   "nbconvert_exporter": "python",
   "pygments_lexer": "ipython3",
   "version": "3.7.6"
  }
 },
 "nbformat": 4,
 "nbformat_minor": 4
}
