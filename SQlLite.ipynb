{
 "cells": [
  {
   "cell_type": "markdown",
   "metadata": {},
   "source": [
    "#                              SQlLite"
   ]
  },
  {
   "cell_type": "code",
   "execution_count": 1,
   "metadata": {},
   "outputs": [],
   "source": [
    "# Import SQLite\n",
    "import sqlite3"
   ]
  },
  {
   "cell_type": "markdown",
   "metadata": {},
   "source": [
    "# Connect Database"
   ]
  },
  {
   "cell_type": "code",
   "execution_count": 4,
   "metadata": {},
   "outputs": [],
   "source": [
    "db=sqlite3.connect(\"my_database.db\")"
   ]
  },
  {
   "cell_type": "code",
   "execution_count": 5,
   "metadata": {},
   "outputs": [
    {
     "data": {
      "text/plain": [
       "<sqlite3.Connection at 0x2c3024512d0>"
      ]
     },
     "execution_count": 5,
     "metadata": {},
     "output_type": "execute_result"
    }
   ],
   "source": [
    "db"
   ]
  },
  {
   "cell_type": "markdown",
   "metadata": {},
   "source": [
    "# Create Table"
   ]
  },
  {
   "cell_type": "code",
   "execution_count": 6,
   "metadata": {},
   "outputs": [
    {
     "data": {
      "text/plain": [
       "<sqlite3.Cursor at 0x2c302476570>"
      ]
     },
     "execution_count": 6,
     "metadata": {},
     "output_type": "execute_result"
    }
   ],
   "source": [
    "db.execute(\"create table students(id, name, marks, grades)\")"
   ]
  },
  {
   "cell_type": "markdown",
   "metadata": {},
   "source": [
    "# Insert Values"
   ]
  },
  {
   "cell_type": "code",
   "execution_count": 7,
   "metadata": {},
   "outputs": [
    {
     "data": {
      "text/plain": [
       "<sqlite3.Cursor at 0x2c3023e1030>"
      ]
     },
     "execution_count": 7,
     "metadata": {},
     "output_type": "execute_result"
    }
   ],
   "source": [
    "db.execute(\"Insert into students(id, name, marks,grades) values(101, 'Rani', 78, 'B')\")\n",
    "db.execute(\"Insert into students(id, name, marks,grades) values(102, 'Vani', 88, 'A')\")\n",
    "db.execute(\"Insert into students(id, name, marks,grades) values(103, 'John', 98, 'A')\")\n",
    "db.execute(\"Insert into students(id, name, marks,grades) values(104, 'Mike', 58, 'C')\")\n",
    "db.execute(\"Insert into students(id, name, marks,grades) values(105, 'Anthony', 68, 'C')\")\n",
    "db.execute(\"Insert into students(id, name, marks,grades) values(106, 'Jack', 48, 'D')\")\n",
    "db.execute(\"Insert into students(id, name, marks,grades) values(107, 'Stephanie', 88, 'A')\")\n",
    "db.execute(\"Insert into students(id, name, marks,grades) values(108, 'Karen', 69, 'B')\")\n"
   ]
  },
  {
   "cell_type": "code",
   "execution_count": 14,
   "metadata": {},
   "outputs": [
    {
     "name": "stdout",
     "output_type": "stream",
     "text": [
      "(101, 'Rani', 78, 'B')\n",
      "(102, 'Vani', 88, 'A')\n",
      "(103, 'John', 98, 'A')\n",
      "(104, 'Mike', 58, 'C')\n",
      "(105, 'Anthony', 68, 'C')\n",
      "(106, 'Jack', 48, 'D')\n",
      "(107, 'Stephanie', 88, 'A')\n",
      "(108, 'Karen', 69, 'B')\n"
     ]
    }
   ],
   "source": [
    "results=db.execute(\"select * from students\")\n",
    "for row in results:\n",
    "    print(row)"
   ]
  },
  {
   "cell_type": "markdown",
   "metadata": {},
   "source": [
    "# Order the students with Highest marks"
   ]
  },
  {
   "cell_type": "code",
   "execution_count": 15,
   "metadata": {},
   "outputs": [
    {
     "name": "stdout",
     "output_type": "stream",
     "text": [
      "(103, 'John', 98, 'A')\n",
      "(102, 'Vani', 88, 'A')\n",
      "(107, 'Stephanie', 88, 'A')\n",
      "(101, 'Rani', 78, 'B')\n",
      "(108, 'Karen', 69, 'B')\n",
      "(105, 'Anthony', 68, 'C')\n",
      "(104, 'Mike', 58, 'C')\n",
      "(106, 'Jack', 48, 'D')\n"
     ]
    }
   ],
   "source": [
    "results=db.execute(\"select * from students order by marks desc\")\n",
    "for row in results:\n",
    "    print(row)"
   ]
  },
  {
   "cell_type": "markdown",
   "metadata": {},
   "source": [
    "# Show only the names and marks of students"
   ]
  },
  {
   "cell_type": "code",
   "execution_count": 16,
   "metadata": {},
   "outputs": [
    {
     "name": "stdout",
     "output_type": "stream",
     "text": [
      "('John', 98)\n",
      "('Vani', 88)\n",
      "('Stephanie', 88)\n",
      "('Rani', 78)\n",
      "('Karen', 69)\n",
      "('Anthony', 68)\n",
      "('Mike', 58)\n",
      "('Jack', 48)\n"
     ]
    }
   ],
   "source": [
    "results=db.execute(\"Select name, marks from students order by marks desc\")\n",
    "for row in results:\n",
    "    print(row)"
   ]
  },
  {
   "cell_type": "markdown",
   "metadata": {},
   "source": [
    "#  Task"
   ]
  },
  {
   "cell_type": "code",
   "execution_count": 27,
   "metadata": {},
   "outputs": [
    {
     "data": {
      "text/plain": [
       "<sqlite3.Cursor at 0x2c30250d3b0>"
      ]
     },
     "execution_count": 27,
     "metadata": {},
     "output_type": "execute_result"
    }
   ],
   "source": [
    "db.execute(\"create table employees1(emp_id int , salary int, gender text, age int)\")"
   ]
  },
  {
   "cell_type": "code",
   "execution_count": 29,
   "metadata": {},
   "outputs": [
    {
     "data": {
      "text/plain": [
       "<sqlite3.Cursor at 0x2c30250da40>"
      ]
     },
     "execution_count": 29,
     "metadata": {},
     "output_type": "execute_result"
    }
   ],
   "source": [
    "db.execute(\"insert into employees1(emp_id, salary, gender, age) values(1001, 18000, 'F', 23)\")\n",
    "db.execute(\"insert into employees1(emp_id, salary, gender, age) values(1002, 20000, 'M', 33)\")\n",
    "db.execute(\"insert into employees1(emp_id, salary, gender, age) values(1003, 15000, 'F', 23)\")\n",
    "db.execute(\"insert into employees1(emp_id, salary, gender, age) values(1004, 30000, 'F', 22)\")\n",
    "db.execute(\"insert into employees1(emp_id, salary, gender, age) values(1005, 34000, 'M', 25)\")\n",
    "db.execute(\"insert into employees1(emp_id, salary, gender, age) values(1006, 24000, 'M', 22)\")\n",
    "db.execute(\"insert into employees1(emp_id, salary, gender, age) values(1007, 40000, 'F', 21)\")\n",
    "db.execute(\"insert into employees1(emp_id, salary, gender, age) values(1008, 34000, 'F', 26)\")\n",
    "db.execute(\"insert into employees1(emp_id, salary, gender, age) values(1009, 21000, 'F', 33)\")\n",
    "db.execute(\"insert into employees1(emp_id, salary, gender, age) values(1010, 14000, 'M', 22)\")\n",
    "db.execute(\"insert into employees1(emp_id, salary, gender, age) values(1011, 56000, 'M', 21)\")\n",
    "db.execute(\"insert into employees1(emp_id, salary, gender, age) values(1012, 44000, 'M', 26)\")\n",
    "db.execute(\"insert into employees1(emp_id, salary, gender, age) values(1013, 22000, 'F', 29)\")\n"
   ]
  },
  {
   "cell_type": "code",
   "execution_count": 31,
   "metadata": {},
   "outputs": [
    {
     "name": "stdout",
     "output_type": "stream",
     "text": [
      "(1001, 18000, 'F', 23)\n",
      "(1002, 20000, 'M', 33)\n",
      "(1003, 15000, 'F', 23)\n",
      "(1004, 30000, 'F', 22)\n",
      "(1005, 34000, 'M', 25)\n",
      "(1006, 24000, 'M', 22)\n",
      "(1007, 40000, 'F', 21)\n",
      "(1008, 34000, 'F', 26)\n",
      "(1009, 21000, 'F', 33)\n",
      "(1010, 14000, 'M', 22)\n",
      "(1011, 56000, 'M', 21)\n",
      "(1012, 44000, 'M', 26)\n",
      "(1013, 22000, 'F', 29)\n"
     ]
    }
   ],
   "source": [
    "# Fetch all the rows order by emp id\n",
    "results=db.execute(\"select * from employees1 order by emp_id\")\n",
    "for row in results:\n",
    "    print(row)"
   ]
  },
  {
   "cell_type": "code",
   "execution_count": 32,
   "metadata": {},
   "outputs": [
    {
     "name": "stdout",
     "output_type": "stream",
     "text": [
      "(1004, 30000, 'F', 22)\n",
      "(1005, 34000, 'M', 25)\n",
      "(1007, 40000, 'F', 21)\n",
      "(1008, 34000, 'F', 26)\n",
      "(1011, 56000, 'M', 21)\n",
      "(1012, 44000, 'M', 26)\n"
     ]
    }
   ],
   "source": [
    "# Fetch all rows where salary is greater than 25000\n",
    "results=db.execute(\"select * from employees1 where salary>=25000\")\n",
    "for row in results:\n",
    "    print(row)"
   ]
  },
  {
   "cell_type": "code",
   "execution_count": 33,
   "metadata": {},
   "outputs": [
    {
     "name": "stdout",
     "output_type": "stream",
     "text": [
      "(1001, 18000, 'F', 23)\n",
      "(1003, 15000, 'F', 23)\n",
      "(1004, 30000, 'F', 22)\n",
      "(1007, 40000, 'F', 21)\n",
      "(1008, 34000, 'F', 26)\n",
      "(1009, 21000, 'F', 33)\n",
      "(1013, 22000, 'F', 29)\n"
     ]
    }
   ],
   "source": [
    "# Fetch all rows based on 'F'\n",
    "results=db.execute(\"select * from employees1 where gender='F'\")\n",
    "for row in results:\n",
    "    print(row)"
   ]
  },
  {
   "cell_type": "code",
   "execution_count": 35,
   "metadata": {},
   "outputs": [
    {
     "name": "stdout",
     "output_type": "stream",
     "text": [
      "(56000, 1011, 'M')\n",
      "(44000, 1012, 'M')\n",
      "(40000, 1007, 'F')\n",
      "(34000, 1005, 'M')\n",
      "(34000, 1008, 'F')\n",
      "(30000, 1004, 'F')\n",
      "(24000, 1006, 'M')\n",
      "(22000, 1013, 'F')\n",
      "(21000, 1009, 'F')\n",
      "(20000, 1002, 'M')\n",
      "(18000, 1001, 'F')\n",
      "(15000, 1003, 'F')\n",
      "(14000, 1010, 'M')\n"
     ]
    }
   ],
   "source": [
    "#  Print the highest salary repective by emp id and gender\n",
    "results=db.execute(\"select salary,emp_id, gender from employees1 order by salary desc\")\n",
    "for row in results:\n",
    "    print(row)"
   ]
  },
  {
   "cell_type": "code",
   "execution_count": 37,
   "metadata": {},
   "outputs": [
    {
     "name": "stdout",
     "output_type": "stream",
     "text": [
      "(21,)\n",
      "(26,)\n",
      "(21,)\n",
      "(25,)\n",
      "(26,)\n",
      "(22,)\n",
      "(22,)\n",
      "(29,)\n",
      "(33,)\n",
      "(33,)\n",
      "(23,)\n",
      "(23,)\n",
      "(22,)\n"
     ]
    }
   ],
   "source": [
    "# print only age based on highest salary\n",
    "results=db.execute(\"select age from employees1 order by salary desc\")\n",
    "for row in results:\n",
    "    print(row)"
   ]
  },
  {
   "cell_type": "code",
   "execution_count": null,
   "metadata": {},
   "outputs": [],
   "source": []
  }
 ],
 "metadata": {
  "kernelspec": {
   "display_name": "Python 3",
   "language": "python",
   "name": "python3"
  },
  "language_info": {
   "codemirror_mode": {
    "name": "ipython",
    "version": 3
   },
   "file_extension": ".py",
   "mimetype": "text/x-python",
   "name": "python",
   "nbconvert_exporter": "python",
   "pygments_lexer": "ipython3",
   "version": "3.7.6"
  }
 },
 "nbformat": 4,
 "nbformat_minor": 4
}
