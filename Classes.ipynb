{
 "cells": [
  {
   "cell_type": "markdown",
   "metadata": {},
   "source": [
    "# Class"
   ]
  },
  {
   "cell_type": "markdown",
   "metadata": {},
   "source": [
    "# Example 1"
   ]
  },
  {
   "cell_type": "code",
   "execution_count": 3,
   "metadata": {},
   "outputs": [
    {
     "name": "stdout",
     "output_type": "stream",
     "text": [
      "<__main__.Person object at 0x0000021E5A30F488>\n",
      "Jack was born in USA and his date of birth is 1948\n"
     ]
    }
   ],
   "source": [
    "class Person:\n",
    "    pass\n",
    "sam=Person()\n",
    "sam.name=\"Jack\"\n",
    "sam.city=\"USA\"\n",
    "sam.year_of_birth=1948\n",
    "print(sam)\n",
    "print(\"%s was born in %s and his date of birth is %d\" %(sam.name, sam.city, sam.year_of_birth))\n"
   ]
  },
  {
   "cell_type": "markdown",
   "metadata": {},
   "source": [
    "# Example2"
   ]
  },
  {
   "cell_type": "code",
   "execution_count": 12,
   "metadata": {},
   "outputs": [
    {
     "name": "stdout",
     "output_type": "stream",
     "text": [
      "Alan Jame was born in 1948.\n",
      "Alan age is 73\n"
     ]
    }
   ],
   "source": [
    "# Find the age\n",
    "class Person:\n",
    "    def __init__(self, name, surname, year_of_birth):\n",
    "        self.name=\"Alan\"\n",
    "        self.surname=\"Jame\"\n",
    "        self.year_of_birth=1948\n",
    "    def age(self, current_year):\n",
    "        return current_year - self.year_of_birth\n",
    "    def __str__(self):\n",
    "        return \"%s %s was born in %d.\" %(self.name, self.surname, self.year_of_birth)\n",
    "Alan=Person(\"Alan\", \"Jame\", 1948)\n",
    "print(Alan)\n",
    "print(\"Alan age is\", Alan.age(2021))"
   ]
  },
  {
   "cell_type": "markdown",
   "metadata": {},
   "source": [
    "# Example 3"
   ]
  },
  {
   "cell_type": "code",
   "execution_count": 29,
   "metadata": {},
   "outputs": [
    {
     "name": "stdout",
     "output_type": "stream",
     "text": [
      "Stephen employee id is 101 and his salary is 60000 and he belongs to Physics department. \n"
     ]
    }
   ],
   "source": [
    "# Print employee name, salary and department\n",
    "\n",
    "class Employees:\n",
    "    def __init__(self, emp_name, emp_id, salary, department):\n",
    "        self.emp_name=\"Stephen\"\n",
    "        self.emp_id=101\n",
    "        self.salary=60000\n",
    "        self.department=\"Physics\"\n",
    "    def __str__(self):\n",
    "        return \"%s employee id is %d and his salary is %d and he belongs to %s department. \" %(self.emp_name, self.emp_id, self.salary, self.department)\n",
    "    \n",
    "emp=Employees(\"Stephen\", 101, 600000,\"Physics\")\n",
    "print(emp)\n"
   ]
  },
  {
   "cell_type": "code",
   "execution_count": null,
   "metadata": {},
   "outputs": [],
   "source": []
  }
 ],
 "metadata": {
  "kernelspec": {
   "display_name": "Python 3",
   "language": "python",
   "name": "python3"
  },
  "language_info": {
   "codemirror_mode": {
    "name": "ipython",
    "version": 3
   },
   "file_extension": ".py",
   "mimetype": "text/x-python",
   "name": "python",
   "nbconvert_exporter": "python",
   "pygments_lexer": "ipython3",
   "version": "3.7.6"
  }
 },
 "nbformat": 4,
 "nbformat_minor": 4
}
